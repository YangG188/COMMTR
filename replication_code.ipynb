{
 "cells": [
  {
   "cell_type": "code",
   "execution_count": null,
   "id": "269c627f",
   "metadata": {},
   "outputs": [],
   "source": [
    "import xlrd\n",
    "import pandas as pd\n",
    "import datetime\n",
    "import numpy as np\n",
    "import time\n",
    "import csv\n",
    "import numpy as np\n",
    "from shapely.geometry import Point\n",
    "from shapely.geometry.polygon import Polygon\n",
    "pd.set_option('display.max_rows', 30)\n",
    "from matplotlib import pyplot as plt\n",
    "import datetime\n",
    "from geopy.distance import geodesic"
   ]
  },
  {
   "cell_type": "code",
   "execution_count": null,
   "id": "fb52b0ec",
   "metadata": {},
   "outputs": [],
   "source": [
    "df_data = pd.read_csv('selected_trips.csv')"
   ]
  },
  {
   "cell_type": "code",
   "execution_count": null,
   "id": "0933641b",
   "metadata": {},
   "outputs": [],
   "source": [
    "df_data = df_data.drop('Unnamed: 0',axis=1)"
   ]
  },
  {
   "cell_type": "code",
   "execution_count": null,
   "id": "2d2f8d64",
   "metadata": {},
   "outputs": [],
   "source": []
  },
  {
   "cell_type": "code",
   "execution_count": null,
   "id": "2e495048",
   "metadata": {},
   "outputs": [],
   "source": [
    "# buffer"
   ]
  },
  {
   "cell_type": "code",
   "execution_count": null,
   "id": "f618be6f",
   "metadata": {},
   "outputs": [],
   "source": [
    "df = pd.DataFrame(pd.read_excel('M1_box1.xlsx','raw_region'))"
   ]
  },
  {
   "cell_type": "code",
   "execution_count": null,
   "id": "aa6d9374",
   "metadata": {},
   "outputs": [],
   "source": [
    "buffer = np.array(df)"
   ]
  },
  {
   "cell_type": "code",
   "execution_count": null,
   "id": "e046574e",
   "metadata": {},
   "outputs": [],
   "source": [
    "# judge point in range or not"
   ]
  },
  {
   "cell_type": "code",
   "execution_count": null,
   "id": "be4dfc75",
   "metadata": {},
   "outputs": [],
   "source": [
    "col_name = df_data.columns.tolist()\n",
    "col_name.insert(15,'Buffer')\n",
    "df_data = df_data.reindex(columns=col_name)"
   ]
  },
  {
   "cell_type": "code",
   "execution_count": null,
   "id": "40f3fa8c",
   "metadata": {},
   "outputs": [],
   "source": [
    "for i in range(0,len(df_data['Path'])):\n",
    "    \n",
    "    for j in range(0,len(df_data['Path'][i].split(';'))):\n",
    "        \n",
    "        point = Point(float(df_data['Path'][i].split(';')[j].split(' ')[0]),float(df_data['Path'][i].split(';')[j].split(' ')[1]))\n",
    "        \n",
    "        if Polygon(buffer).contains(point) == True:\n",
    "            \n",
    "            df_data['Buffer'][i] = 1\n",
    "            \n",
    "            break"
   ]
  },
  {
   "cell_type": "code",
   "execution_count": null,
   "id": "1669a2f4",
   "metadata": {},
   "outputs": [],
   "source": [
    "df_data_buffer = df_data[(df_data['Buffer'] == 1)]"
   ]
  },
  {
   "cell_type": "code",
   "execution_count": null,
   "id": "801e1c51",
   "metadata": {},
   "outputs": [],
   "source": [
    "df_data_buffer = df_data_buffer.dropna()"
   ]
  },
  {
   "cell_type": "code",
   "execution_count": null,
   "id": "4562e224",
   "metadata": {},
   "outputs": [],
   "source": [
    "df_data_buffer = df_data_buffer.reset_index(drop = True)"
   ]
  },
  {
   "cell_type": "code",
   "execution_count": null,
   "id": "a5f67c93",
   "metadata": {},
   "outputs": [],
   "source": []
  },
  {
   "cell_type": "code",
   "execution_count": null,
   "id": "a5d1336c",
   "metadata": {},
   "outputs": [],
   "source": [
    "# get in and out timestamps"
   ]
  },
  {
   "cell_type": "code",
   "execution_count": null,
   "id": "acd48eec",
   "metadata": {},
   "outputs": [],
   "source": [
    "col_name = df_data_buffer.columns.tolist()\n",
    "col_name.insert(16,'Start_order')\n",
    "df_data_buffer = df_data_buffer.reindex(columns=col_name)"
   ]
  },
  {
   "cell_type": "code",
   "execution_count": null,
   "id": "7401f6c8",
   "metadata": {},
   "outputs": [],
   "source": [
    "col_name = df_data_buffer.columns.tolist()\n",
    "col_name.insert(17,'End_order')\n",
    "df_data_buffer = df_data_buffer.reindex(columns=col_name)"
   ]
  },
  {
   "cell_type": "code",
   "execution_count": null,
   "id": "49b9a2a1",
   "metadata": {},
   "outputs": [],
   "source": [
    "for i in range(0,len(df_data_buffer['Path'])):\n",
    "    \n",
    "    for j in range(0,len(df_data_buffer['Path'][i].split(';'))):\n",
    "        \n",
    "        point = Point(float(df_data_buffer['Path'][i].split(';')[j].split(' ')[0]),float(df_data_buffer['Path'][i].split(';')[j].split(' ')[1]))\n",
    "        \n",
    "        if Polygon(buffer).contains(point) == True:\n",
    "                \n",
    "            df_data_buffer['Start_order'][i] = j\n",
    "            \n",
    "            break"
   ]
  },
  {
   "cell_type": "code",
   "execution_count": null,
   "id": "7ff1ad19",
   "metadata": {},
   "outputs": [],
   "source": [
    "for i in range(0,len(df_data_buffer['Path'])):\n",
    "    \n",
    "    for j in range(int(df_data_buffer['Start_order'][i]),len(df_data_buffer['Path'][i].split(';'))):\n",
    "        \n",
    "        point = Point(float(df_data_buffer['Path'][i].split(';')[j].split(' ')[0]),float(df_data_buffer['Path'][i].split(';')[j].split(' ')[1]))\n",
    "        \n",
    "        if Polygon(buffer).contains(point) == False:\n",
    "            \n",
    "            df_data_buffer['End_order'][i] = j-1\n",
    "            \n",
    "            break"
   ]
  },
  {
   "cell_type": "code",
   "execution_count": null,
   "id": "04574209",
   "metadata": {},
   "outputs": [],
   "source": []
  },
  {
   "cell_type": "code",
   "execution_count": null,
   "id": "a294287f",
   "metadata": {},
   "outputs": [],
   "source": [
    "# determine the trips with the selected direction"
   ]
  },
  {
   "cell_type": "code",
   "execution_count": null,
   "id": "59cdf862",
   "metadata": {},
   "outputs": [],
   "source": [
    "df_data_buffer = df_data_buffer.dropna()\n",
    "df_data_buffer = df_data_buffer.reset_index(drop = True)"
   ]
  },
  {
   "cell_type": "code",
   "execution_count": null,
   "id": "05893ada",
   "metadata": {},
   "outputs": [],
   "source": [
    "df = pd.DataFrame(pd.read_excel('M1_box1.xlsx','origin'))"
   ]
  },
  {
   "cell_type": "code",
   "execution_count": null,
   "id": "e748fcda",
   "metadata": {},
   "outputs": [],
   "source": [
    "buffer = np.array(df)"
   ]
  },
  {
   "cell_type": "code",
   "execution_count": null,
   "id": "cac9967b",
   "metadata": {},
   "outputs": [],
   "source": [
    "df_data_buffer = df_data_buffer.reset_index(drop = True)"
   ]
  },
  {
   "cell_type": "code",
   "execution_count": null,
   "id": "70d31ebf",
   "metadata": {},
   "outputs": [],
   "source": [
    "for i in range(0,len(df_data_buffer['Path'])):\n",
    "        \n",
    "    point = Point(float(df_data_buffer['Path'][i].split(';')[int(df_data_buffer['Start_order'][i])].split(' ')[0]),float(df_data_buffer['Path'][i].split(';')[int(df_data_buffer['Start_order'][i])].split(' ')[1]))\n",
    "        \n",
    "    if Polygon(buffer).contains(point) == False:\n",
    "\n",
    "        df_data_buffer = df_data_buffer.drop(index=[i])"
   ]
  },
  {
   "cell_type": "code",
   "execution_count": null,
   "id": "3bfb8bd0",
   "metadata": {},
   "outputs": [],
   "source": [
    "df = pd.DataFrame(pd.read_excel('M1_box1.xlsx','destination'))"
   ]
  },
  {
   "cell_type": "code",
   "execution_count": null,
   "id": "12128bcf",
   "metadata": {},
   "outputs": [],
   "source": [
    "buffer = np.array(df)"
   ]
  },
  {
   "cell_type": "code",
   "execution_count": null,
   "id": "35ed4e0d",
   "metadata": {},
   "outputs": [],
   "source": [
    "df_data_buffer = df_data_buffer.reset_index(drop = True)"
   ]
  },
  {
   "cell_type": "code",
   "execution_count": null,
   "id": "3a52705e",
   "metadata": {},
   "outputs": [],
   "source": [
    "for i in range(0,len(df_data_buffer['Path'])):\n",
    "        \n",
    "    point = Point(float(df_data_buffer['Path'][i].split(';')[int(df_data_buffer['End_order'][i])].split(' ')[0]),float(df_data_buffer['Path'][i].split(';')[int(df_data_buffer['End_order'][i])].split(' ')[1]))\n",
    "        \n",
    "    if Polygon(buffer).contains(point) == False:\n",
    "\n",
    "        df_data_buffer = df_data_buffer.drop(index=[i])"
   ]
  },
  {
   "cell_type": "code",
   "execution_count": null,
   "id": "92d5e54c",
   "metadata": {},
   "outputs": [],
   "source": [
    "df_data_buffer = df_data_buffer.reset_index(drop = True)"
   ]
  },
  {
   "cell_type": "code",
   "execution_count": null,
   "id": "a22f6b4c",
   "metadata": {},
   "outputs": [],
   "source": []
  },
  {
   "cell_type": "code",
   "execution_count": null,
   "id": "bedeeaa8",
   "metadata": {},
   "outputs": [],
   "source": [
    "# get travel time"
   ]
  },
  {
   "cell_type": "code",
   "execution_count": null,
   "id": "3edb7a85",
   "metadata": {},
   "outputs": [],
   "source": [
    "col_name = df_data_buffer.columns.tolist()\n",
    "col_name.insert(18,'Buffer travel time')\n",
    "df_data_buffer = df_data_buffer.reindex(columns=col_name)"
   ]
  },
  {
   "cell_type": "code",
   "execution_count": null,
   "id": "bb451a81",
   "metadata": {},
   "outputs": [],
   "source": [
    "for i in range(0,df_data_buffer.shape[0]):\n",
    "    \n",
    "    start_order = int(df_data_buffer['Start_order'][i])\n",
    "    \n",
    "    end_order = int(df_data_buffer['End_order'][i])\n",
    "    \n",
    "    a = datetime.datetime.strptime(df_data_buffer['timestamp_path'][i].split(',')[end_order],'%Y-%m-%d %H:%M:%S')-datetime.datetime.strptime(df_data_buffer['timestamp_path'][i].split(',')[start_order],'%Y-%m-%d %H:%M:%S')\n",
    "    \n",
    "    df_data_buffer['Buffer travel time'][i] = a.total_seconds()"
   ]
  },
  {
   "cell_type": "code",
   "execution_count": null,
   "id": "b657fb78",
   "metadata": {},
   "outputs": [],
   "source": []
  },
  {
   "cell_type": "code",
   "execution_count": null,
   "id": "d9934a38",
   "metadata": {},
   "outputs": [],
   "source": [
    "# remove outlier travel time"
   ]
  },
  {
   "cell_type": "code",
   "execution_count": null,
   "id": "685c444f",
   "metadata": {},
   "outputs": [],
   "source": [
    "x = df_data_buffer.iloc[:,18].mean()\n",
    "y = df_data_buffer.iloc[:,18].std()\n",
    "row_index = df_data_buffer[(df_data_buffer[df_data_buffer.columns.values.tolist()[18]]>x+3*y)|(df_data_buffer[df_data_buffer.columns.values.tolist()[18]]<x-3*y)].index\n",
    "df_data_buffer = df_data_buffer.drop(row_index,inplace=False) "
   ]
  },
  {
   "cell_type": "code",
   "execution_count": null,
   "id": "b8a32c48",
   "metadata": {},
   "outputs": [],
   "source": [
    "df_data_buffer = df_data_buffer.reset_index(drop = True)"
   ]
  },
  {
   "cell_type": "code",
   "execution_count": null,
   "id": "1868d45e",
   "metadata": {},
   "outputs": [],
   "source": []
  },
  {
   "cell_type": "code",
   "execution_count": null,
   "id": "21cada6d",
   "metadata": {},
   "outputs": [],
   "source": [
    "# obtain mandatory and discretionary lane change trips"
   ]
  },
  {
   "cell_type": "code",
   "execution_count": null,
   "id": "bea9cb6b",
   "metadata": {},
   "outputs": [],
   "source": [
    "col_name = df_data_buffer.columns.tolist()\n",
    "col_name.insert(19,'Trip_category')\n",
    "df_data_buffer = df_data_buffer.reindex(columns=col_name)"
   ]
  },
  {
   "cell_type": "code",
   "execution_count": null,
   "id": "017f80fe",
   "metadata": {},
   "outputs": [],
   "source": [
    "df = pd.DataFrame(pd.read_excel('M1_box1.xlsx','downstream'))"
   ]
  },
  {
   "cell_type": "code",
   "execution_count": null,
   "id": "0d424bb6",
   "metadata": {},
   "outputs": [],
   "source": [
    "buffer = np.array(df)"
   ]
  },
  {
   "cell_type": "code",
   "execution_count": null,
   "id": "243004de",
   "metadata": {},
   "outputs": [],
   "source": [
    "for i in range(0,len(df_data_buffer['Path'])):\n",
    "    \n",
    "    total_path = len(df_data_buffer['Path'][i].split(';'))\n",
    "    \n",
    "    for j in range(int(df_data_buffer['End_order'][i])+1, total_path):\n",
    "        \n",
    "        point = Point(float(df_data_buffer['Path'][i].split(';')[j].split(' ')[0]),float(df_data_buffer['Path'][i].split(';')[j].split(' ')[1]))\n",
    "        \n",
    "        if Polygon(buffer).contains(point) == True:\n",
    "\n",
    "            df_data_buffer['Trip_category'][i] = 'discretionary'\n",
    "            \n",
    "            break\n",
    "        \n",
    "        else:\n",
    "            \n",
    "            df_data_buffer['Trip_category'][i] = 'mandatory'"
   ]
  },
  {
   "cell_type": "code",
   "execution_count": null,
   "id": "570f2e83",
   "metadata": {},
   "outputs": [],
   "source": [
    "df_data_buffer_d = df_data_buffer[(df_data_buffer['Trip_category'] == 'discretionary')]"
   ]
  },
  {
   "cell_type": "code",
   "execution_count": null,
   "id": "149392cc",
   "metadata": {},
   "outputs": [],
   "source": [
    "df_data_buffer_d = df_data_buffer_d.reset_index(drop=True)"
   ]
  },
  {
   "cell_type": "code",
   "execution_count": null,
   "id": "3baede2f",
   "metadata": {},
   "outputs": [],
   "source": []
  },
  {
   "cell_type": "code",
   "execution_count": null,
   "id": "af37e86e",
   "metadata": {},
   "outputs": [],
   "source": [
    "# distinguish detour travel "
   ]
  },
  {
   "cell_type": "code",
   "execution_count": null,
   "id": "fdaba031",
   "metadata": {},
   "outputs": [],
   "source": [
    "df = pd.DataFrame(pd.read_excel('M1_box1.xlsx','offramp1'))"
   ]
  },
  {
   "cell_type": "code",
   "execution_count": null,
   "id": "a0ac4bd1",
   "metadata": {},
   "outputs": [],
   "source": [
    "buffer1 = np.array(df)"
   ]
  },
  {
   "cell_type": "code",
   "execution_count": null,
   "id": "31760683",
   "metadata": {},
   "outputs": [],
   "source": [
    "df = pd.DataFrame(pd.read_excel('M1_box1.xlsx','offramp2'))"
   ]
  },
  {
   "cell_type": "code",
   "execution_count": null,
   "id": "5a4c7400",
   "metadata": {},
   "outputs": [],
   "source": [
    "buffer2 = np.array(df)"
   ]
  },
  {
   "cell_type": "code",
   "execution_count": null,
   "id": "ee386977",
   "metadata": {},
   "outputs": [],
   "source": [
    "for i in range(0,len(df_data_buffer_d['Path'])):\n",
    "    \n",
    "    total_path = len(df_data_buffer_d['Path'][i].split(';'))\n",
    "    \n",
    "    for j in range(int(df_data_buffer_d['End_order'][i])+1, total_path):\n",
    "        \n",
    "        point = Point(float(df_data_buffer_d['Path'][i].split(';')[j].split(' ')[0]),float(df_data_buffer_d['Path'][i].split(';')[j].split(' ')[1]))\n",
    "        \n",
    "        if Polygon(buffer1).contains(point) == True or Polygon(buffer2).contains(point) == True:\n",
    "\n",
    "            df_data_buffer_d['Trip_category'][i] = 'mandatory'\n",
    "            \n",
    "            break"
   ]
  },
  {
   "cell_type": "code",
   "execution_count": null,
   "id": "393d82cc",
   "metadata": {},
   "outputs": [],
   "source": [
    "df_data_buffer_d = df_data_buffer_d[(df_data_buffer_d['Trip_category'] == 'discretionary')]"
   ]
  },
  {
   "cell_type": "code",
   "execution_count": null,
   "id": "f57dcf8f",
   "metadata": {},
   "outputs": [],
   "source": [
    "df_data_buffer_d = df_data_buffer_d.reset_index(drop=True)"
   ]
  },
  {
   "cell_type": "code",
   "execution_count": null,
   "id": "a96f5613",
   "metadata": {},
   "outputs": [],
   "source": []
  },
  {
   "cell_type": "code",
   "execution_count": null,
   "id": "402ba709",
   "metadata": {},
   "outputs": [],
   "source": [
    "# lane number acquisition"
   ]
  },
  {
   "cell_type": "code",
   "execution_count": null,
   "id": "5121cc1a",
   "metadata": {},
   "outputs": [],
   "source": [
    "idx = list(range(0, 10000001))\n",
    "clm = ['VehicleID','TripID','Date','Time','Long','Lat','Lane_number']\n",
    "df_trajectory_d = pd.DataFrame(None,index=idx,columns=clm)"
   ]
  },
  {
   "cell_type": "code",
   "execution_count": null,
   "id": "55a78423",
   "metadata": {},
   "outputs": [],
   "source": [
    "df = pd.DataFrame(pd.read_excel('M1_box1.xlsx','lane1'))"
   ]
  },
  {
   "cell_type": "code",
   "execution_count": null,
   "id": "cb859b48",
   "metadata": {},
   "outputs": [],
   "source": [
    "buffer_1 = np.array(df)"
   ]
  },
  {
   "cell_type": "code",
   "execution_count": null,
   "id": "379cc3f8",
   "metadata": {},
   "outputs": [],
   "source": [
    "df = pd.DataFrame(pd.read_excel('M1_box1.xlsx','lane3'))"
   ]
  },
  {
   "cell_type": "code",
   "execution_count": null,
   "id": "718b33d7",
   "metadata": {},
   "outputs": [],
   "source": [
    "buffer_3 = np.array(df)"
   ]
  },
  {
   "cell_type": "code",
   "execution_count": null,
   "id": "b250ce5b",
   "metadata": {},
   "outputs": [],
   "source": [
    "k = 0\n",
    "for j in range(0,len(df_data_buffer_d['VehicleID'])):\n",
    "    for i in range(int(df_data_buffer_d['Start_order'][j]),int(df_data_buffer_d['End_order'][j]+1)):\n",
    "        df_trajectory_d['VehicleID'][k] = df_data_buffer_d['VehicleID'][j].split('_')[0]\n",
    "        df_trajectory_d['TripID'][k] = df_data_buffer_d['VehicleID'][j].split('_')[1]\n",
    "        df_trajectory_d['Date'][k] = df_data_buffer_d['timestamp_path'][j].split(',')[i].split(' ')[0]\n",
    "        df_trajectory_d['Time'][k] = df_data_buffer_d['timestamp_path'][j].split(',')[i].split(' ')[1]\n",
    "        df_trajectory_d['Long'][k] = df_data_buffer_d['Path'][j].split(';')[i].split(' ')[0]\n",
    "        df_trajectory_d['Lat'][k] = df_data_buffer_d['Path'][j].split(';')[i].split(' ')[1]\n",
    "        \n",
    "        point = Point(float(df_data_buffer_d['Path'][j].split(';')[i].split(' ')[0]),float(df_data_buffer_d['Path'][j].split(';')[i].split(' ')[1]))\n",
    "        \n",
    "        if Polygon(buffer_1).contains(point) == True:\n",
    "            \n",
    "            df_trajectory_d['Lane_number'][k] = 1\n",
    "            \n",
    "        elif Polygon(buffer_3).contains(point) == True:\n",
    "            \n",
    "            df_trajectory_d['Lane_number'][k] = 3\n",
    "            \n",
    "        else:\n",
    "            \n",
    "            df_trajectory_d['Lane_number'][k] = 2\n",
    "            \n",
    "        k = k + 1"
   ]
  },
  {
   "cell_type": "code",
   "execution_count": null,
   "id": "bcd1cd1b",
   "metadata": {},
   "outputs": [],
   "source": [
    "df_trajectory_d = df_trajectory_d.dropna()"
   ]
  },
  {
   "cell_type": "code",
   "execution_count": null,
   "id": "fea26ee6",
   "metadata": {},
   "outputs": [],
   "source": []
  },
  {
   "cell_type": "code",
   "execution_count": null,
   "id": "e5e558cc",
   "metadata": {},
   "outputs": [],
   "source": []
  },
  {
   "cell_type": "code",
   "execution_count": null,
   "id": "09ed34f3",
   "metadata": {},
   "outputs": [],
   "source": []
  },
  {
   "cell_type": "code",
   "execution_count": null,
   "id": "a8cc3a07",
   "metadata": {},
   "outputs": [],
   "source": [
    "from scipy import stats"
   ]
  },
  {
   "cell_type": "code",
   "execution_count": null,
   "id": "c4e51bd9",
   "metadata": {},
   "outputs": [],
   "source": [
    "# lane number correction"
   ]
  },
  {
   "cell_type": "code",
   "execution_count": null,
   "id": "16e6d83d",
   "metadata": {},
   "outputs": [],
   "source": [
    "col_name = df_trajectory_d .columns.tolist()\n",
    "col_name.insert(7,'hour')\n",
    "df_trajectory_d  = df_trajectory_d.reindex(columns=col_name)"
   ]
  },
  {
   "cell_type": "code",
   "execution_count": null,
   "id": "4df6af4d",
   "metadata": {},
   "outputs": [],
   "source": [
    "for i in range(0,df_trajectory_d.shape[0]):\n",
    "    \n",
    "    df_trajectory_d.loc[i,'hour'] = df_trajectory_d.loc[i,'Time'].split(':')[0]"
   ]
  },
  {
   "cell_type": "code",
   "execution_count": null,
   "id": "6cb5330d",
   "metadata": {},
   "outputs": [],
   "source": [
    "for i in range(0,df_trajectory_d.shape[0]):\n",
    "    \n",
    "    df_trajectory_d.loc[i,'TripID'] = str(df_trajectory_d.loc[i,'TripID']) + '_' + df_trajectory_d.loc[i,'hour']"
   ]
  },
  {
   "cell_type": "code",
   "execution_count": null,
   "id": "299975e8",
   "metadata": {},
   "outputs": [],
   "source": [
    "for i in df_trajectory_d['VehicleID'].unique():\n",
    "    \n",
    "    df_data_vehicle = df_trajectory_d[(df_trajectory_d['VehicleID'] == i)]\n",
    "    \n",
    "    for j in df_data_vehicle['TripID'].unique():\n",
    "        \n",
    "        df_data_trip = df_data_vehicle[(df_data_vehicle['TripID'] == j)]\n",
    "        \n",
    "        for k in range(0,df_data_trip.shape[0]):\n",
    "\n",
    "            index_1 = df_data_trip[(df_data_trip['Time'] == df_data_trip.iloc[0,3])].index\n",
    "\n",
    "            index_2 = df_data_trip[(df_data_trip['Time'] == df_data_trip.iloc[k,3])].index\n",
    "\n",
    "            index_3 = df_data_trip[(df_data_trip['Time'] == df_data_trip.iloc[df_data_trip.shape[0]-1,3])].index\n",
    "            \n",
    "            if (index_2-index_1)[0] >= 4 and (index_3-index_2)[0] >= 4:\n",
    "                \n",
    "                lc_num = df_data_trip.loc[(index_2-4)[0]:(index_2+4)[0],'Lane_number'].tolist()\n",
    "                \n",
    "                # determine the duration of time points\n",
    "                \n",
    "                a = 1\n",
    "                \n",
    "                for b in [4, 3, 2, 1]:\n",
    "                    \n",
    "                    if lc_num[4] ==  lc_num[b-1]:\n",
    "                    \n",
    "                        a = a + 1\n",
    "\n",
    "                        b = b - 1\n",
    "                    \n",
    "                    else:\n",
    "                        \n",
    "                        break\n",
    "                    \n",
    "                for c in [4, 5, 6, 7]:\n",
    "                    \n",
    "                    if lc_num[4] ==  lc_num[c+1]:\n",
    "                    \n",
    "                        a = a + 1\n",
    "\n",
    "                        c = c + 1\n",
    "                        \n",
    "                    else:\n",
    "                        \n",
    "                        break\n",
    "                        \n",
    "                if a <= 4 and lc_num[b-1] == lc_num[c+1]:\n",
    "                    \n",
    "                    mode_num = stats.mode(lc_num)[0][0]\n",
    "                    \n",
    "                    df_trajectory_d.loc[index_2,'Lane_number'] = mode_num\n",
    "                        \n",
    "                    df_data_vehicle = df_trajectory_d[(df_trajectory_d['VehicleID'] == i)]\n",
    "                    \n",
    "                    df_data_trip = df_data_vehicle[(df_data_vehicle['TripID'] == j)]\n",
    "                    \n",
    "\n",
    "            elif (index_2-index_1)[0] < 4 and (index_3-index_2)[0] >= 4:\n",
    "\n",
    "                lc_num = df_data_trip.loc[index_1[0]:(index_2+4)[0],'Lane_number'].tolist()\n",
    "\n",
    "                mode_num = stats.mode(lc_num)[0][0]\n",
    "\n",
    "                if mode_num != df_trajectory_d.loc[index_2,'Lane_number'].tolist()[0]:\n",
    "\n",
    "                    df_trajectory_d.loc[index_2,'Lane_number'] = mode_num\n",
    "                    \n",
    "                    df_data_vehicle = df_trajectory_d[(df_trajectory_d['VehicleID'] == i)]\n",
    "                    \n",
    "                    df_data_trip = df_data_vehicle[(df_data_vehicle['TripID'] == j)]\n",
    "\n",
    "            else:\n",
    "\n",
    "                lc_num = df_data_trip.loc[(index_2-1)[0]:(index_3)[0],'Lane_number'].tolist()\n",
    "\n",
    "                mode_num = stats.mode(lc_num)[0][0]\n",
    "\n",
    "                if mode_num != df_trajectory_d.loc[index_2,'Lane_number'].tolist()[0]:\n",
    "\n",
    "                    df_trajectory_d.loc[index_2,'Lane_number'] = mode_num\n",
    "                    \n",
    "                    df_data_vehicle = df_trajectory_d[(df_trajectory_d['VehicleID'] == i)]\n",
    "                    \n",
    "                    df_data_trip = df_data_vehicle[(df_data_vehicle['TripID'] == j)]"
   ]
  },
  {
   "cell_type": "code",
   "execution_count": null,
   "id": "bae2a142",
   "metadata": {},
   "outputs": [],
   "source": []
  },
  {
   "cell_type": "code",
   "execution_count": null,
   "id": "8d4d2049",
   "metadata": {},
   "outputs": [],
   "source": [
    "# acquisition of driving speed for each point"
   ]
  },
  {
   "cell_type": "code",
   "execution_count": null,
   "id": "a90de0bf",
   "metadata": {},
   "outputs": [],
   "source": [
    "df_trajectory_d = df_trajectory_d.drop('hour',axis=1)"
   ]
  },
  {
   "cell_type": "code",
   "execution_count": null,
   "id": "1909fb5f",
   "metadata": {},
   "outputs": [],
   "source": [
    "col_name = df_trajectory_d.columns.tolist()\n",
    "col_name.insert(7,'Speed')\n",
    "df_trajectory_d = df_trajectory_d.reindex(columns=col_name)"
   ]
  },
  {
   "cell_type": "code",
   "execution_count": null,
   "id": "fbce1fb2",
   "metadata": {},
   "outputs": [],
   "source": [
    "for i in df_trajectory_d['VehicleID'].unique():\n",
    "    \n",
    "    df_data_vehicle = df_trajectory_d[(df_trajectory_d['VehicleID'] == i)]\n",
    "    \n",
    "    for j in df_data_vehicle['TripID'].unique():\n",
    "        \n",
    "        df_data_trip = df_data_vehicle[(df_data_vehicle['TripID'] == j)]\n",
    "        \n",
    "        for k in range(1,df_data_trip.shape[0]):\n",
    "            \n",
    "            time2 = df_data_trip.iloc[k,2] +' '+ df_data_trip.iloc[k,3]\n",
    "            \n",
    "            time1 = df_data_trip.iloc[k-1,2] +' '+ df_data_trip.iloc[k-1,3]\n",
    "            \n",
    "            speed = geodesic((df_data_trip.iloc[k-1,5],df_data_trip.iloc[k-1,4]),(df_data_trip.iloc[k,5],df_data_trip.iloc[k,4])).km/((datetime.datetime.strptime(time2,'%Y-%m-%d %H:%M:%S')-datetime.datetime.strptime(time1,'%Y-%m-%d %H:%M:%S')).total_seconds()/3600)\n",
    "            \n",
    "            index_1 = df_data_trip[(df_data_trip['VehicleID'] == i) & (df_data_trip['TripID'] == j) & (df_data_trip['Date'] == df_data_trip.iloc[k,2]) & (df_data_trip['Time'] == df_data_trip.iloc[k,3])].index\n",
    "            \n",
    "            df_trajectory_d.loc[index_1,'Speed'] = speed"
   ]
  },
  {
   "cell_type": "code",
   "execution_count": null,
   "id": "c990f5f0",
   "metadata": {},
   "outputs": [],
   "source": []
  },
  {
   "cell_type": "code",
   "execution_count": null,
   "id": "68e3e289",
   "metadata": {},
   "outputs": [],
   "source": [
    "# acquisition of lane changing or not for each point"
   ]
  },
  {
   "cell_type": "code",
   "execution_count": null,
   "id": "22d27ba8",
   "metadata": {},
   "outputs": [],
   "source": [
    "col_name = df_trajectory_d.columns.tolist()\n",
    "col_name.insert(8,'Lane_change')\n",
    "df_trajectory_d = df_trajectory_d.reindex(columns=col_name)"
   ]
  },
  {
   "cell_type": "code",
   "execution_count": null,
   "id": "b3292fd2",
   "metadata": {},
   "outputs": [],
   "source": [
    "for i in df_trajectory_d['VehicleID'].unique():\n",
    "    \n",
    "    df_data_vehicle = df_trajectory_d[(df_trajectory_d['VehicleID'] == i)]\n",
    "    \n",
    "    for j in df_data_vehicle['TripID'].unique():\n",
    "        \n",
    "        df_data_trip = df_data_vehicle[(df_data_vehicle['TripID'] == j)]\n",
    "        \n",
    "        for k in range(0,df_data_trip.shape[0]-1):\n",
    "           \n",
    "            if df_data_trip.iloc[k,6] != df_data_trip.iloc[k+1,6]:\n",
    "                \n",
    "                index_1 = df_data_trip[(df_data_trip['Time'] == df_data_trip.iloc[k,3])].index\n",
    "           \n",
    "                df_trajectory_d.loc[index_1,'Lane_change'] = 1\n",
    "            \n",
    "            elif df_data_trip.iloc[k,6] == df_data_trip.iloc[k+1,6]:\n",
    "                \n",
    "                index_1 = df_data_trip[(df_data_trip['Time'] == df_data_trip.iloc[k,3])].index\n",
    "                \n",
    "                df_trajectory_d.loc[index_1,'Lane_change'] = 0"
   ]
  },
  {
   "cell_type": "code",
   "execution_count": null,
   "id": "b5c3fda9",
   "metadata": {},
   "outputs": [],
   "source": []
  },
  {
   "cell_type": "code",
   "execution_count": null,
   "id": "dc906c55",
   "metadata": {},
   "outputs": [],
   "source": [
    "# acquisition of segment number for each point"
   ]
  },
  {
   "cell_type": "code",
   "execution_count": null,
   "id": "1dc579ef",
   "metadata": {},
   "outputs": [],
   "source": [
    "col_name = df_trajectory_d.columns.tolist()\n",
    "col_name.insert(9,'Segment')\n",
    "df_trajectory_d = df_trajectory_d.reindex(columns=col_name)"
   ]
  },
  {
   "cell_type": "code",
   "execution_count": null,
   "id": "ec786450",
   "metadata": {},
   "outputs": [],
   "source": [
    "for i in range(1,41):\n",
    "\n",
    "    buffer = pd.DataFrame(pd.read_excel('M1_box1.xlsx','segment'+str(i)))\n",
    "\n",
    "    buffer = np.array(buffer)\n",
    "\n",
    "    for k in range(0,df_trajectory_d.shape[0]):\n",
    "\n",
    "        point = Point(float(df_trajectory_d.iloc[k,4]),float(df_trajectory_d.iloc[k,5]))\n",
    "\n",
    "        if Polygon(buffer).contains(point) == True:\n",
    "\n",
    "            df_trajectory_d.iloc[k,9] = i"
   ]
  },
  {
   "cell_type": "code",
   "execution_count": null,
   "id": "29ef3114",
   "metadata": {},
   "outputs": [],
   "source": []
  },
  {
   "cell_type": "code",
   "execution_count": null,
   "id": "5802152e",
   "metadata": {},
   "outputs": [],
   "source": [
    "# acquisition of travel time and lane changing frequency for each trip"
   ]
  },
  {
   "cell_type": "code",
   "execution_count": null,
   "id": "799cccc4",
   "metadata": {},
   "outputs": [],
   "source": [
    "lanechanging_number = {}\n",
    "\n",
    "lanechanging_number['number'] = {}\n",
    "\n",
    "lanechanging_number['time'] = {}\n",
    "\n",
    "for i in df_trajectory_d['VehicleID'].unique():\n",
    "    \n",
    "    df_data_vehicle = df_trajectory_d[(df_trajectory_d['VehicleID'] == i)]\n",
    "    \n",
    "    for j in df_data_vehicle['TripID'].unique():\n",
    "        \n",
    "        lanechanging_number['number'][str(i)+'_'+str(j)] = []\n",
    "        \n",
    "        lanechanging_number['time'][str(i)+'_'+str(j)] = []\n",
    "        \n",
    "        df_data_trip = df_data_vehicle[(df_data_vehicle['TripID'] == j)]\n",
    "        \n",
    "        for k in range(1,len(df_data_trip['Lane_number'].to_list())):\n",
    "            \n",
    "            if df_data_trip['Lane_number'].to_list()[k] != df_data_trip['Lane_number'].to_list()[k-1]:\n",
    "                \n",
    "                lanechanging_number['number'][str(i)+'_'+str(j)].append(1)\n",
    "                \n",
    "        lanechanging_number['number'][str(i)+'_'+str(j)] = sum(lanechanging_number['number'][str(i)+'_'+str(j)])\n",
    "        \n",
    "        time2 = df_data_trip.iloc[df_data_trip.shape[0]-1,2] +' '+ df_data_trip.iloc[df_data_trip.shape[0]-1,3]\n",
    "            \n",
    "        time1 = df_data_trip.iloc[0,2] +' '+ df_data_trip.iloc[0,3]\n",
    "        \n",
    "        lanechanging_number['time'][str(i)+'_'+str(j)] = (datetime.datetime.strptime(time2,'%Y-%m-%d %H:%M:%S')-datetime.datetime.strptime(time1,'%Y-%m-%d %H:%M:%S')).total_seconds()"
   ]
  },
  {
   "cell_type": "code",
   "execution_count": null,
   "id": "5193d970",
   "metadata": {},
   "outputs": [],
   "source": [
    "df_lane_time_d = pd.DataFrame(lanechanging_number)"
   ]
  },
  {
   "cell_type": "code",
   "execution_count": null,
   "id": "983b24fe",
   "metadata": {},
   "outputs": [],
   "source": [
    "x = df_lane_time_d.iloc[:,1].mean()\n",
    "y = df_lane_time_d.iloc[:,1].std()\n",
    "row_index = df_lane_time_d[(df_lane_time_d[df_lane_time_d.columns.values.tolist()[1]]>x+3*y)|(df_lane_time_d[df_lane_time_d.columns.values.tolist()[1]]<x-3*y)].index\n",
    "df_lane_time_d1 = df_lane_time_d.drop(row_index,inplace=False) "
   ]
  },
  {
   "cell_type": "code",
   "execution_count": null,
   "id": "4f076522",
   "metadata": {},
   "outputs": [],
   "source": [
    "df_lane_time_d1 = df_lane_time_d1.reset_index(drop = True)"
   ]
  },
  {
   "cell_type": "code",
   "execution_count": null,
   "id": "d20c9dd1",
   "metadata": {},
   "outputs": [],
   "source": []
  },
  {
   "cell_type": "code",
   "execution_count": null,
   "id": "f54e66db",
   "metadata": {},
   "outputs": [],
   "source": []
  },
  {
   "cell_type": "code",
   "execution_count": null,
   "id": "cdf5b1e5",
   "metadata": {},
   "outputs": [],
   "source": []
  },
  {
   "cell_type": "code",
   "execution_count": null,
   "id": "ca432f6f",
   "metadata": {},
   "outputs": [],
   "source": [
    "# individual perspective analysis"
   ]
  },
  {
   "cell_type": "code",
   "execution_count": null,
   "id": "0d340c62",
   "metadata": {},
   "outputs": [],
   "source": [
    "df_trajectory_d = df_trajectory_d.dropna()"
   ]
  },
  {
   "cell_type": "code",
   "execution_count": null,
   "id": "7f021f8b",
   "metadata": {},
   "outputs": [],
   "source": [
    "df_trajectory_d = df_trajectory_d.reset_index(drop=True)"
   ]
  },
  {
   "cell_type": "code",
   "execution_count": null,
   "id": "ff06fa31",
   "metadata": {},
   "outputs": [],
   "source": [
    "df_data = df_trajectory_d"
   ]
  },
  {
   "cell_type": "code",
   "execution_count": null,
   "id": "ec0f119d",
   "metadata": {},
   "outputs": [],
   "source": [
    "up_stream = {}\n",
    "merging_area = {}\n",
    "overtaking_area = {}\n",
    "down_stream = {}\n",
    "\n",
    "up_stream['speed'] = {}\n",
    "merging_area['speed'] = {}\n",
    "overtaking_area['speed'] = {}\n",
    "down_stream['speed'] = {}"
   ]
  },
  {
   "cell_type": "code",
   "execution_count": null,
   "id": "4057e481",
   "metadata": {},
   "outputs": [],
   "source": [
    "for i in np.arange(5,105,5):\n",
    "    \n",
    "    up_stream['speed'][i] = []\n",
    "    merging_area['speed'][i] = []\n",
    "    overtaking_area['speed'][i] = []\n",
    "    down_stream['speed'][i] = []"
   ]
  },
  {
   "cell_type": "code",
   "execution_count": null,
   "id": "ca042b7b",
   "metadata": {},
   "outputs": [],
   "source": [
    "for i in df_data['VehicleID'].unique():\n",
    "\n",
    "    df_data_vehicle = df_data[(df_data['VehicleID'] == i)]\n",
    "\n",
    "    for j in df_data_vehicle['TripID'].unique():\n",
    "\n",
    "        df_data_trip = df_data_vehicle[(df_data_vehicle['TripID'] == j)]\n",
    "        \n",
    "        df_data_trip =  df_data_trip.reset_index(drop=True)\n",
    "        \n",
    "        row_index = df_data_trip[(df_data_trip.Lane_change ==1)].index\n",
    "        \n",
    "        if len(row_index) != 0:\n",
    "            \n",
    "            for k in range(0,len(row_index)):\n",
    "                \n",
    "                if row_index[k] != df_data_trip.shape[0]-1:\n",
    "                \n",
    "                    speed_before = df_data_trip.Speed[row_index[k]]\n",
    "                    \n",
    "                    speed_after = df_data_trip.Speed[row_index[k]+1]\n",
    "                    \n",
    "                    speed_change = speed_after - speed_before\n",
    "                    \n",
    "                    speed_index = int(speed_before/5)*5 + 5\n",
    "                    \n",
    "                    seg_index = df_data_trip.Segment[row_index[k]]\n",
    "                    \n",
    "                    if speed_index <= 100 :\n",
    "                    \n",
    "                        if 0 < seg_index and seg_index < 9:\n",
    "\n",
    "                            up_stream['speed'][speed_index].append(speed_change)\n",
    "\n",
    "                        elif 8 < seg_index and seg_index < 11:\n",
    "\n",
    "                            overtaking_area['speed'][speed_index].append(speed_change)\n",
    "\n",
    "                        elif 12 < seg_index and seg_index < 15:\n",
    "\n",
    "                            merging_area['speed'][speed_index].append(speed_change)\n",
    "\n",
    "                        elif 14 < seg_index:\n",
    "\n",
    "                            down_stream['speed'][speed_index].append(speed_change)"
   ]
  },
  {
   "cell_type": "code",
   "execution_count": null,
   "id": "b46faedd",
   "metadata": {},
   "outputs": [],
   "source": [
    "# get the speed change"
   ]
  },
  {
   "cell_type": "code",
   "execution_count": null,
   "id": "99fdef52",
   "metadata": {},
   "outputs": [],
   "source": [
    "for i in up_stream['speed'].keys():\n",
    "    \n",
    "    up_stream['speed'][i] = sum(up_stream['speed'][i])/len(up_stream['speed'][i])\n",
    "    \n",
    "for i in up_stream['speed'].keys():\n",
    "    \n",
    "    down_stream['speed'][i] = sum(down_stream['speed'][i])/len(down_stream['speed'][i])\n",
    "    \n",
    "for i in up_stream['speed'].keys():\n",
    "    \n",
    "    overtaking_area['speed'][i] = sum(overtaking_area['speed'][i])/len(overtaking_area['speed'][i])\n",
    "    \n",
    "for i in up_stream['speed'].keys():\n",
    "    \n",
    "    merging_area['speed'][i] = sum(merging_area['speed'][i])/len(merging_area['speed'][i])"
   ]
  },
  {
   "cell_type": "code",
   "execution_count": null,
   "id": "5f57ae79",
   "metadata": {},
   "outputs": [],
   "source": []
  },
  {
   "cell_type": "code",
   "execution_count": null,
   "id": "b56b42e1",
   "metadata": {},
   "outputs": [],
   "source": [
    "# get the number of trips"
   ]
  },
  {
   "cell_type": "code",
   "execution_count": null,
   "id": "4c9b49d3",
   "metadata": {},
   "outputs": [],
   "source": [
    "for i in up_stream['speed'].keys():\n",
    "    \n",
    "    up_stream['speed'][i] = len(up_stream['speed'][i])\n",
    "    \n",
    "for i in up_stream['speed'].keys():\n",
    "    \n",
    "    down_stream['speed'][i] = len(down_stream['speed'][i])\n",
    "    \n",
    "for i in up_stream['speed'].keys():\n",
    "    \n",
    "    overtaking_area['speed'][i] = len(overtaking_area['speed'][i])\n",
    "    \n",
    "for i in up_stream['speed'].keys():\n",
    "    \n",
    "    merging_area['speed'][i] = len(merging_area['speed'][i])"
   ]
  },
  {
   "cell_type": "code",
   "execution_count": null,
   "id": "e9a2d7a1",
   "metadata": {},
   "outputs": [],
   "source": []
  },
  {
   "cell_type": "code",
   "execution_count": null,
   "id": "02facbe2",
   "metadata": {},
   "outputs": [],
   "source": [
    "# system perspective analysis"
   ]
  },
  {
   "cell_type": "code",
   "execution_count": null,
   "id": "cb4d1eaa",
   "metadata": {},
   "outputs": [],
   "source": [
    "# speed space-time"
   ]
  },
  {
   "cell_type": "code",
   "execution_count": null,
   "id": "7c84614a",
   "metadata": {},
   "outputs": [],
   "source": [
    "df = df_data"
   ]
  },
  {
   "cell_type": "code",
   "execution_count": null,
   "id": "314b8cef",
   "metadata": {},
   "outputs": [],
   "source": [
    "speed = {}\n",
    "\n",
    "for i in range(0,288):\n",
    "    \n",
    "    speed[i] = {}\n",
    "    \n",
    "    for j in range(1,41):\n",
    "        \n",
    "        speed[i][j] = []"
   ]
  },
  {
   "cell_type": "code",
   "execution_count": null,
   "id": "a34d14ff",
   "metadata": {},
   "outputs": [],
   "source": [
    "for k in range(0,df.shape[0]):\n",
    "\n",
    "    time = df_data.iloc[k,3]\n",
    "\n",
    "    time_num = int(time.split(':')[0])*12 + int(int(time.split(':')[1])/5)\n",
    "    \n",
    "    seg_num = df_data.iloc[k,9]\n",
    "\n",
    "    speed[time_num][seg_num].append(df_data.iloc[k,7])"
   ]
  },
  {
   "cell_type": "code",
   "execution_count": null,
   "id": "fa58350b",
   "metadata": {},
   "outputs": [],
   "source": [
    "for i in range(0,288):\n",
    "    \n",
    "    for j in range(1,41):\n",
    "        \n",
    "        if len(speed[i][j]) != 0:\n",
    "\n",
    "            speed[i][j] = sum(speed[i][j])/len(speed[i][j])"
   ]
  },
  {
   "cell_type": "code",
   "execution_count": null,
   "id": "54eaf031",
   "metadata": {},
   "outputs": [],
   "source": []
  },
  {
   "cell_type": "code",
   "execution_count": null,
   "id": "16060fe9",
   "metadata": {},
   "outputs": [],
   "source": [
    "# lane changing space-time"
   ]
  },
  {
   "cell_type": "code",
   "execution_count": null,
   "id": "3e76228a",
   "metadata": {},
   "outputs": [],
   "source": [
    "lanechange = {}\n",
    "\n",
    "for i in range(0,288):\n",
    "    \n",
    "    lanechange[i] = {}\n",
    "    \n",
    "    for j in range(1,41):\n",
    "        \n",
    "        lanechange[i][j] = []"
   ]
  },
  {
   "cell_type": "code",
   "execution_count": null,
   "id": "6fb7a27d",
   "metadata": {},
   "outputs": [],
   "source": [
    "num_count = {}\n",
    "\n",
    "for i in range(0,288):\n",
    "    \n",
    "    num_count[i] = {}\n",
    "    \n",
    "    for j in range(1,41):\n",
    "        \n",
    "        num_count[i][j] = []"
   ]
  },
  {
   "cell_type": "code",
   "execution_count": null,
   "id": "92bc9fab",
   "metadata": {},
   "outputs": [],
   "source": [
    "for k in range(0,df.shape[0]):\n",
    "\n",
    "    time = df_data.iloc[k,3]\n",
    "\n",
    "    time_num = int(time.split(':')[0])*12 + int(int(time.split(':')[1])/5)\n",
    "    \n",
    "    seg_num = df_data.iloc[k,9]\n",
    "\n",
    "    lanechange[time_num][seg_num].append(df_data.iloc[k,8])\n",
    "    \n",
    "    num_count[time_num][seg_num].append(str(df_data.iloc[k,0])+str(df_data.iloc[k,1])+str(df_data.iloc[k,9]))"
   ]
  },
  {
   "cell_type": "code",
   "execution_count": null,
   "id": "4c7bb17a",
   "metadata": {},
   "outputs": [],
   "source": [
    "for i in range(0,288):\n",
    "    \n",
    "    for j in range(1,41):\n",
    "        \n",
    "        if len(num_count[i][j]) != 0:\n",
    "\n",
    "            num_count[i][j] = set(num_count[i][j])"
   ]
  },
  {
   "cell_type": "code",
   "execution_count": null,
   "id": "30530fc3",
   "metadata": {},
   "outputs": [],
   "source": [
    "for i in range(0,288):\n",
    "    \n",
    "    for j in range(1,41):\n",
    "        \n",
    "        if len(lanechange[i][j]) != 0:\n",
    "\n",
    "            lanechange[i][j] = sum(lanechange[i][j])/len(num_count[i][j])\n",
    "            \n",
    "        else:\n",
    "            \n",
    "            lanechange[i][j] = 0"
   ]
  },
  {
   "cell_type": "code",
   "execution_count": null,
   "id": "57e3bb79",
   "metadata": {},
   "outputs": [],
   "source": []
  },
  {
   "cell_type": "code",
   "execution_count": null,
   "id": "92aaa450",
   "metadata": {},
   "outputs": [],
   "source": []
  },
  {
   "cell_type": "code",
   "execution_count": null,
   "id": "bf882c6e",
   "metadata": {},
   "outputs": [],
   "source": []
  },
  {
   "cell_type": "code",
   "execution_count": null,
   "id": "47d0dfa4",
   "metadata": {},
   "outputs": [],
   "source": []
  },
  {
   "cell_type": "code",
   "execution_count": null,
   "id": "6589a667",
   "metadata": {},
   "outputs": [],
   "source": []
  },
  {
   "cell_type": "code",
   "execution_count": null,
   "id": "4d4223da",
   "metadata": {},
   "outputs": [],
   "source": []
  },
  {
   "cell_type": "code",
   "execution_count": null,
   "id": "7710ccf2",
   "metadata": {},
   "outputs": [],
   "source": []
  },
  {
   "cell_type": "code",
   "execution_count": null,
   "id": "7b0143e3",
   "metadata": {},
   "outputs": [],
   "source": []
  },
  {
   "cell_type": "code",
   "execution_count": null,
   "id": "cfafe80a",
   "metadata": {},
   "outputs": [],
   "source": []
  },
  {
   "cell_type": "code",
   "execution_count": null,
   "id": "2fff4f79",
   "metadata": {},
   "outputs": [],
   "source": []
  },
  {
   "cell_type": "code",
   "execution_count": null,
   "id": "629f8534",
   "metadata": {},
   "outputs": [],
   "source": []
  },
  {
   "cell_type": "code",
   "execution_count": null,
   "id": "8ee05628",
   "metadata": {},
   "outputs": [],
   "source": []
  },
  {
   "cell_type": "code",
   "execution_count": null,
   "id": "bd9f008a",
   "metadata": {},
   "outputs": [],
   "source": []
  },
  {
   "cell_type": "code",
   "execution_count": null,
   "id": "d1c49cad",
   "metadata": {},
   "outputs": [],
   "source": []
  },
  {
   "cell_type": "code",
   "execution_count": null,
   "id": "d36b4b2e",
   "metadata": {},
   "outputs": [],
   "source": []
  },
  {
   "cell_type": "code",
   "execution_count": null,
   "id": "ce874c28",
   "metadata": {},
   "outputs": [],
   "source": []
  },
  {
   "cell_type": "code",
   "execution_count": null,
   "id": "657a897b",
   "metadata": {},
   "outputs": [],
   "source": []
  },
  {
   "cell_type": "code",
   "execution_count": null,
   "id": "4bea8be9",
   "metadata": {},
   "outputs": [],
   "source": []
  },
  {
   "cell_type": "code",
   "execution_count": null,
   "id": "69780a41",
   "metadata": {},
   "outputs": [],
   "source": []
  },
  {
   "cell_type": "code",
   "execution_count": null,
   "id": "4249c504",
   "metadata": {},
   "outputs": [],
   "source": []
  },
  {
   "cell_type": "code",
   "execution_count": null,
   "id": "6ad8e714",
   "metadata": {},
   "outputs": [],
   "source": []
  },
  {
   "cell_type": "code",
   "execution_count": null,
   "id": "a6f51725",
   "metadata": {},
   "outputs": [],
   "source": []
  }
 ],
 "metadata": {
  "kernelspec": {
   "display_name": "Python 3 (ipykernel)",
   "language": "python",
   "name": "python3"
  },
  "language_info": {
   "codemirror_mode": {
    "name": "ipython",
    "version": 3
   },
   "file_extension": ".py",
   "mimetype": "text/x-python",
   "name": "python",
   "nbconvert_exporter": "python",
   "pygments_lexer": "ipython3",
   "version": "3.9.13"
  }
 },
 "nbformat": 4,
 "nbformat_minor": 5
}
